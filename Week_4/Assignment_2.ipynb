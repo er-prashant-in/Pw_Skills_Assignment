{
 "cells": [
  {
   "cell_type": "markdown",
   "id": "50c7c395",
   "metadata": {},
   "source": [
    "# Q1. Explain Class and Object with respect to Object-Oriented Programming. Give a suitable example."
   ]
  },
  {
   "cell_type": "markdown",
   "id": "7c1eb312",
   "metadata": {},
   "source": [
    "Class:"
   ]
  },
  {
   "cell_type": "markdown",
   "id": "64723ad7",
   "metadata": {},
   "source": [
    "A class is a blueprint or a template for creating objects. It defines a set of attributes (data members) and methods (functions) that the objects of that class will have. Think of a class as a blueprint for creating specific types of objects. It defines the characteristics and behaviors that the objects of that class will possess. Classes provide a way to encapsulate data and functionality, making code modular and easier to manage."
   ]
  },
  {
   "cell_type": "markdown",
   "id": "5ca23fc9",
   "metadata": {},
   "source": [
    "Object:"
   ]
  },
  {
   "cell_type": "markdown",
   "id": "4fa15b6c",
   "metadata": {},
   "source": [
    "An object is an instance of a class. It's a concrete, tangible entity created using the blueprint provided by the class. An object has both attributes (data) and methods (functions) associated with it, as defined by its class. Objects allow us to represent and work with real-world entities in our code."
   ]
  },
  {
   "cell_type": "code",
   "execution_count": 1,
   "id": "4c827150",
   "metadata": {},
   "outputs": [
    {
     "name": "stdout",
     "output_type": "stream",
     "text": [
      "Engine started\n",
      "Engine started\n",
      "Engine stopped\n"
     ]
    }
   ],
   "source": [
    "# Defining a class named 'Car'\n",
    "class Car:\n",
    "    def __init__(self, make, model):\n",
    "        self.make = make  # Attribute: Make of the car\n",
    "        self.model = model  # Attribute: Model of the car\n",
    "        self.is_running = False  # Attribute: Current running state of the car\n",
    "\n",
    "    def start_engine(self):\n",
    "        self.is_running = True\n",
    "        print(\"Engine started\")\n",
    "\n",
    "    def stop_engine(self):\n",
    "        self.is_running = False\n",
    "        print(\"Engine stopped\")\n",
    "\n",
    "# Creating objects (instances) of the class 'Car'\n",
    "car1 = Car(\"Toyota\", \"Camry\")\n",
    "car2 = Car(\"Ford\", \"Mustang\")\n",
    "\n",
    "# Using methods of the objects\n",
    "car1.start_engine()  # Output: Engine started\n",
    "car2.start_engine()  # Output: Engine started\n",
    "\n",
    "car1.stop_engine()  # Output: Engine stopped"
   ]
  },
  {
   "cell_type": "markdown",
   "id": "fc44946e",
   "metadata": {},
   "source": [
    "# Q2. Name the four pillars of OOPs."
   ]
  },
  {
   "cell_type": "markdown",
   "id": "d5124b3f",
   "metadata": {},
   "source": [
    " \n",
    "The four pillars of object-oriented programming (OOP) are:\n",
    "\n",
    "1. Encapsulation: Encapsulation refers to the practice of bundling data (attributes) and the methods (functions) that operate on that data into a single unit called a class. The internal details of the class are hidden from the outside world, and access to the data is controlled through methods. This enhances data security and modularity.\n",
    "\n",
    "2. Abstraction: Abstraction involves simplifying complex reality by modeling classes based on their essential characteristics. It allows you to create a simplified representation of an object that hides the unnecessary details. Abstraction helps manage complexity and focus on the relevant features of an object.\n",
    "\n",
    "3. Inheritance: Inheritance enables a new class (subclass or derived class) to inherit properties and behaviors (attributes and methods) from an existing class (base class or parent class). This promotes code reuse and establishes a hierarchical relationship between classes, where the subclass inherits characteristics from the parent class and can also have additional features of its own.\n",
    "\n",
    "4. Polymorphism: Polymorphism allows objects of different classes to be treated as objects of a common superclass. It allows you to define methods in a generic way in the superclass, and then specific implementations in the subclasses. This enables flexibility and extensibility in code, as different objects can respond differently to the same method call."
   ]
  },
  {
   "cell_type": "markdown",
   "id": "f3d63b08",
   "metadata": {},
   "source": [
    "# Q3. Explain why the __init__() function is used. Give a suitable example."
   ]
  },
  {
   "cell_type": "raw",
   "id": "1d1064fb",
   "metadata": {},
   "source": [
    "The __init__() function is a special method in Python classes that is used for initializing the attributes of an object when it is created. It stands for \"initialize\" and is often referred to as the constructor method. This method is automatically called when a new object of a class is instantiated.\n",
    "\n",
    "Here's why the __init__() function is used:\n",
    "\n",
    "1. Attribute Initialization: The primary purpose of __init__() is to initialize the attributes (data members) of an object. When you create a new object, you often want to set initial values for its attributes. This method allows you to pass values to the object's attributes when it's created.\n",
    "\n",
    "2. Instance-specific Initialization: Since each object of a class can have different attribute values, __init__() allows you to provide unique initial values for each object. This way, objects can have distinct states when they start.\n",
    "\n",
    "3. Encapsulation: By setting attribute values within the __init__() method, you can ensure that the object starts in a consistent and well-defined state. This supports the principle of encapsulation, as you control the initial setup of the object's internal data."
   ]
  },
  {
   "cell_type": "code",
   "execution_count": 2,
   "id": "c3949c66",
   "metadata": {},
   "outputs": [
    {
     "name": "stdout",
     "output_type": "stream",
     "text": [
      "Hi, I'm Alice and I'm 30 years old.\n",
      "Hi, I'm Bob and I'm 25 years old.\n"
     ]
    }
   ],
   "source": [
    "class Person:\n",
    "    def __init__(self, name, age):\n",
    "        self.name = name  # Initialize the 'name' attribute\n",
    "        self.age = age    # Initialize the 'age' attribute\n",
    "\n",
    "    def introduce(self):\n",
    "        print(f\"Hi, I'm {self.name} and I'm {self.age} years old.\")\n",
    "\n",
    "# Creating objects of the 'Person' class\n",
    "person1 = Person(\"Alice\", 30)\n",
    "person2 = Person(\"Bob\", 25)\n",
    "\n",
    "# Calling the 'introduce()' method for each object\n",
    "person1.introduce()  # Output: Hi, I'm Alice and I'm 30 years old.\n",
    "person2.introduce()  # Output: Hi, I'm Bob and I'm 25 years old."
   ]
  },
  {
   "cell_type": "markdown",
   "id": "7f19a0f5",
   "metadata": {},
   "source": [
    "# Q4. Why self is used in OOPs?"
   ]
  },
  {
   "cell_type": "raw",
   "id": "c0f04407",
   "metadata": {},
   "source": [
    "In object-oriented programming (OOP), self is used as a reference to the instance of the class that a method is operating on. It is a convention in Python (and in some other programming languages) to name this first parameter of instance methods as self. The use of self serves several important purposes:\n",
    "\n",
    "1. Accessing Instance Attributes: When you create an object of a class, it contains attributes that define its state. The self parameter allows methods to access and manipulate these attributes within the class. By using self.attribute_name, you can refer to instance attributes.\n",
    "\n",
    "2. Method Invocation: When you call a method on an object, the object itself needs to be aware of which instance is invoking the method. The self parameter provides this context, allowing the method to work with the data specific to the instance.\n",
    "\n",
    "3. Creating and Modifying Attributes: If you want to create new attributes or modify existing ones within a method, you need to use the self parameter to specify the instance for which the changes should be made. This ensures that the changes are applied to the correct object.\n",
    "\n",
    "4. Method Visibility and Access: By using self, methods can access other methods and attributes within the same class. This supports encapsulation, as methods can work together while maintaining the proper visibility of attributes."
   ]
  },
  {
   "cell_type": "code",
   "execution_count": 3,
   "id": "74b26415",
   "metadata": {},
   "outputs": [
    {
     "name": "stdout",
     "output_type": "stream",
     "text": [
      "Area of the circle: 78.5\n"
     ]
    }
   ],
   "source": [
    "class Circle:\n",
    "    def __init__(self, radius):\n",
    "        self.radius = radius  # Initialize the 'radius' attribute\n",
    "\n",
    "    def calculate_area(self):\n",
    "        area = 3.14 * self.radius ** 2\n",
    "        return area\n",
    "\n",
    "# Creating an object of the 'Circle' class\n",
    "circle1 = Circle(5)\n",
    "\n",
    "# Calling the 'calculate_area()' method\n",
    "area = circle1.calculate_area()\n",
    "print(\"Area of the circle:\", area)"
   ]
  },
  {
   "cell_type": "markdown",
   "id": "2b0d137b",
   "metadata": {},
   "source": [
    "# Q5. What is inheritance? Give an example for each type of inheritance."
   ]
  },
  {
   "cell_type": "raw",
   "id": "cd424265",
   "metadata": {},
   "source": [
    "\n",
    "Inheritance is a fundamental concept in object-oriented programming (OOP) where a new class (subclass or derived class) is created based on an existing class (base class or parent class). The new subclass inherits attributes and methods from the base class, allowing code reuse and establishing a hierarchical relationship between classes."
   ]
  },
  {
   "cell_type": "markdown",
   "id": "4311be68",
   "metadata": {},
   "source": [
    "1. Single Inheritance: In single inheritance, a subclass inherits from a single base class."
   ]
  },
  {
   "cell_type": "code",
   "execution_count": 4,
   "id": "502e7c60",
   "metadata": {},
   "outputs": [],
   "source": [
    "class Animal:\n",
    "    def speak(self):\n",
    "        pass\n",
    "\n",
    "class Dog(Animal):\n",
    "    def speak(self):\n",
    "        return \"Woof!\"\n",
    "\n",
    "class Cat(Animal):\n",
    "    def speak(self):\n",
    "        return \"Meow!\"\n"
   ]
  },
  {
   "cell_type": "markdown",
   "id": "2d4e52b7",
   "metadata": {},
   "source": [
    "2. Multiple Inheritance: In multiple inheritance, a subclass inherits from multiple base classes. This allows a class to combine features from multiple sources."
   ]
  },
  {
   "cell_type": "code",
   "execution_count": 5,
   "id": "ad50a297",
   "metadata": {},
   "outputs": [],
   "source": [
    "class Swimmer:\n",
    "    def swim(self):\n",
    "        return \"Swimming\"\n",
    "\n",
    "class Flyer:\n",
    "    def fly(self):\n",
    "        return \"Flying\"\n",
    "\n",
    "class FlyingFish(Swimmer, Flyer):\n",
    "    pass\n"
   ]
  },
  {
   "cell_type": "markdown",
   "id": "d2a3b3aa",
   "metadata": {},
   "source": [
    "3. Multilevel Inheritance: In multilevel inheritance, a subclass derives from another subclass, creating a chain of inheritance."
   ]
  },
  {
   "cell_type": "code",
   "execution_count": 6,
   "id": "0f784615",
   "metadata": {},
   "outputs": [],
   "source": [
    "class Animal:\n",
    "    def speak(self):\n",
    "        pass\n",
    "\n",
    "class Mammal(Animal):\n",
    "    pass\n",
    "\n",
    "class Dog(Mammal):\n",
    "    def speak(self):\n",
    "        return \"Woof!\"\n"
   ]
  },
  {
   "cell_type": "markdown",
   "id": "2426231a",
   "metadata": {},
   "source": [
    "4. Hierarchical Inheritance: In hierarchical inheritance, multiple subclasses inherit from a single base class."
   ]
  },
  {
   "cell_type": "code",
   "execution_count": 7,
   "id": "8fd7f47c",
   "metadata": {},
   "outputs": [],
   "source": [
    "class Shape:\n",
    "    def area(self):\n",
    "        pass\n",
    "\n",
    "class Circle(Shape):\n",
    "    def area(self, radius):\n",
    "        return 3.14 * radius ** 2\n",
    "\n",
    "class Square(Shape):\n",
    "    def area(self, side):\n",
    "        return side ** 2\n"
   ]
  },
  {
   "cell_type": "code",
   "execution_count": null,
   "id": "58c64b94",
   "metadata": {},
   "outputs": [],
   "source": [
    "\n"
   ]
  }
 ],
 "metadata": {
  "kernelspec": {
   "display_name": "Python 3 (ipykernel)",
   "language": "python",
   "name": "python3"
  },
  "language_info": {
   "codemirror_mode": {
    "name": "ipython",
    "version": 3
   },
   "file_extension": ".py",
   "mimetype": "text/x-python",
   "name": "python",
   "nbconvert_exporter": "python",
   "pygments_lexer": "ipython3",
   "version": "3.10.9"
  }
 },
 "nbformat": 4,
 "nbformat_minor": 5
}
