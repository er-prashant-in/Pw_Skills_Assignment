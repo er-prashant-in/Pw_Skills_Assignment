{
 "cells": [
  {
   "cell_type": "markdown",
   "id": "299fbbda",
   "metadata": {},
   "source": [
    "# Q1. What is Abstraction in OOps? Explain with an example."
   ]
  },
  {
   "cell_type": "raw",
   "id": "f704c496",
   "metadata": {},
   "source": [
    "Abstraction is one of the fundamental principles of object-oriented programming (OOP) that allows you to simplify complex systems by focusing on the essential characteristics while hiding unnecessary details. It involves defining a clear and concise interface for interacting with objects or classes, while keeping the implementation details hidden from the outside world.\n",
    "\n",
    "In OOP, abstraction is typically achieved through the use of abstract classes and interfaces. Here's an explanation with an example:\n",
    "\n",
    "Example: Shape Abstraction\n",
    "\n",
    "Let's consider a simple example of shape representation in a computer program. We want to create a program that can work with various shapes like circles, rectangles, and triangles. Abstraction can help us create a common interface for all these shapes while hiding their specific implementation details."
   ]
  },
  {
   "cell_type": "markdown",
   "id": "90af5cd0",
   "metadata": {},
   "source": [
    "1. Abstraction through an Interface:"
   ]
  },
  {
   "cell_type": "code",
   "execution_count": 1,
   "id": "db927312",
   "metadata": {},
   "outputs": [],
   "source": [
    "# Define an abstract interface for shapes\n",
    "from abc import ABC, abstractmethod\n",
    "\n",
    "class Shape(ABC):\n",
    "    @abstractmethod\n",
    "    def area(self):\n",
    "        pass\n",
    "\n",
    "    @abstractmethod\n",
    "    def perimeter(self):\n",
    "        pass"
   ]
  },
  {
   "cell_type": "markdown",
   "id": "0746b673",
   "metadata": {},
   "source": [
    "2. Concrete Shape Classes:"
   ]
  },
  {
   "cell_type": "code",
   "execution_count": 2,
   "id": "477ca92f",
   "metadata": {},
   "outputs": [],
   "source": [
    "class Circle(Shape):\n",
    "    def __init__(self, radius):\n",
    "        self.radius = radius\n",
    "\n",
    "    def area(self):\n",
    "        return 3.14 * self.radius * self.radius\n",
    "\n",
    "    def perimeter(self):\n",
    "        return 2 * 3.14 * self.radius\n",
    "\n",
    "class Rectangle(Shape):\n",
    "    def __init__(self, length, width):\n",
    "        self.length = length\n",
    "        self.width = width\n",
    "\n",
    "    def area(self):\n",
    "        return self.length * self.width\n",
    "\n",
    "    def perimeter(self):\n",
    "        return 2 * (self.length + self.width)"
   ]
  },
  {
   "cell_type": "markdown",
   "id": "73d0ab80",
   "metadata": {},
   "source": [
    "3. Using Abstraction:"
   ]
  },
  {
   "cell_type": "code",
   "execution_count": 3,
   "id": "df2587c2",
   "metadata": {},
   "outputs": [
    {
     "name": "stdout",
     "output_type": "stream",
     "text": [
      "Circle:\n",
      "Area: 78.5\n",
      "Perimeter: 31.400000000000002\n",
      "Rectangle:\n",
      "Area: 24\n",
      "Perimeter: 20\n"
     ]
    }
   ],
   "source": [
    "def print_shape_info(shape):\n",
    "    print(f\"Area: {shape.area()}\")\n",
    "    print(f\"Perimeter: {shape.perimeter()}\")\n",
    "\n",
    "circle = Circle(5)\n",
    "rectangle = Rectangle(4, 6)\n",
    "\n",
    "print(\"Circle:\")\n",
    "print_shape_info(circle)\n",
    "\n",
    "print(\"Rectangle:\")\n",
    "print_shape_info(rectangle)"
   ]
  },
  {
   "cell_type": "markdown",
   "id": "a999ac3e",
   "metadata": {},
   "source": [
    "# Q2. Differentiate between Abstraction and Encapsulation. Explain with an example."
   ]
  },
  {
   "cell_type": "raw",
   "id": "fa9b0ae5",
   "metadata": {},
   "source": [
    "Abstraction:\n",
    "\n",
    "1. Purpose: Abstraction is about hiding the complex implementation details of an object or a system and exposing only the necessary and essential features or behaviors to the outside world. It allows you to create a simplified and clear representation of an object's functionality.\n",
    "\n",
    "2. Mechanism: Abstraction is typically achieved through the use of abstract classes and interfaces. It defines a contract or a set of methods that derived classes must implement while leaving the specific implementation to those classes.\n",
    "\n",
    "3. Example:"
   ]
  },
  {
   "cell_type": "code",
   "execution_count": 4,
   "id": "78ae60eb",
   "metadata": {},
   "outputs": [],
   "source": [
    "# Abstract class representing a vehicle\n",
    "from abc import ABC, abstractmethod\n",
    "\n",
    "class Vehicle(ABC):\n",
    "    @abstractmethod\n",
    "    def start_engine(self):\n",
    "        pass\n",
    "\n",
    "    @abstractmethod\n",
    "    def stop_engine(self):\n",
    "        pass\n",
    "\n",
    "# Concrete classes implementing Vehicle\n",
    "class Car(Vehicle):\n",
    "    def start_engine(self):\n",
    "        print(\"Car engine started\")\n",
    "\n",
    "    def stop_engine(self):\n",
    "        print(\"Car engine stopped\")\n",
    "\n",
    "class Motorcycle(Vehicle):\n",
    "    def start_engine(self):\n",
    "        print(\"Motorcycle engine started\")\n",
    "\n",
    "    def stop_engine(self):\n",
    "        print(\"Motorcycle engine stopped\")"
   ]
  },
  {
   "cell_type": "raw",
   "id": "9fdbaffc",
   "metadata": {},
   "source": [
    "Encapsulation:\n",
    "\n",
    "1. Purpose: Encapsulation is about bundling the data (attributes or fields) and methods (functions) that operate on that data into a single unit, known as a class. It restricts direct access to an object's internal state and provides controlled access through methods, which helps maintain the integrity of the object's data.\n",
    "\n",
    "2. Mechanism: Encapsulation is typically achieved through the use of access modifiers like public, private, and protected, which control the visibility and accessibility of class members (attributes and methods).\n",
    "\n",
    "3. Example:"
   ]
  },
  {
   "cell_type": "code",
   "execution_count": 5,
   "id": "a82f2796",
   "metadata": {},
   "outputs": [
    {
     "name": "stdout",
     "output_type": "stream",
     "text": [
      "Balance: 1300\n"
     ]
    }
   ],
   "source": [
    "class BankAccount:\n",
    "    def __init__(self, account_number, balance):\n",
    "        self.__account_number = account_number  # Private attribute\n",
    "        self.__balance = balance  # Private attribute\n",
    "\n",
    "    def deposit(self, amount):\n",
    "        if amount > 0:\n",
    "            self.__balance += amount\n",
    "\n",
    "    def withdraw(self, amount):\n",
    "        if amount > 0 and amount <= self.__balance:\n",
    "            self.__balance -= amount\n",
    "\n",
    "    def get_balance(self):\n",
    "        return self.__balance\n",
    "\n",
    "# Usage\n",
    "account = BankAccount(\"12345\", 1000)\n",
    "account.deposit(500)\n",
    "account.withdraw(200)\n",
    "print(\"Balance:\", account.get_balance())"
   ]
  },
  {
   "cell_type": "markdown",
   "id": "262164ec",
   "metadata": {},
   "source": [
    "# Q3. What is abc module in python? Why is it used?"
   ]
  },
  {
   "cell_type": "markdown",
   "id": "60395a2e",
   "metadata": {},
   "source": [
    "The abc module in Python stands for \"Abstract Base Classes.\" It is a built-in module that provides mechanisms for defining and working with abstract base classes and abstract methods. Abstract base classes are used to enforce a certain structure or interface in derived classes, making sure that they implement specific methods. These abstract classes are not meant to be instantiated themselves but serve as a blueprint for other classes.\n",
    "\n",
    "The abc module is used for the following purposes:\n",
    "\n",
    "1. Defining Abstract Base Classes: You can use the abc module to define abstract base classes by subclassing the ABC class from the module. Abstract base classes can contain abstract methods, which are methods declared without an implementation.\n",
    "\n",
    "2. Enforcing Method Implementation: Abstract base classes allow you to define a set of methods that must be implemented by any concrete subclass. If a concrete class does not implement all the required methods, Python will raise a TypeError at runtime.\n",
    "\n",
    "3. Providing a Common Interface: Abstract base classes provide a way to create a common interface for a group of related classes, ensuring that they all have a consistent method structure. This is particularly useful in cases where you want to create a contract that derived classes must adhere to.\n",
    "\n"
   ]
  },
  {
   "cell_type": "code",
   "execution_count": 6,
   "id": "74099313",
   "metadata": {},
   "outputs": [
    {
     "name": "stdout",
     "output_type": "stream",
     "text": [
      "Circle Area: 78.5\n",
      "Circle Perimeter: 31.400000000000002\n"
     ]
    }
   ],
   "source": [
    "from abc import ABC, abstractmethod\n",
    "\n",
    "# Define an abstract base class\n",
    "class Shape(ABC):\n",
    "\n",
    "    @abstractmethod\n",
    "    def area(self):\n",
    "        pass\n",
    "\n",
    "    @abstractmethod\n",
    "    def perimeter(self):\n",
    "        pass\n",
    "\n",
    "# Create a concrete subclass\n",
    "class Circle(Shape):\n",
    "\n",
    "    def __init__(self, radius):\n",
    "        self.radius = radius\n",
    "\n",
    "    def area(self):\n",
    "        return 3.14 * self.radius * self.radius\n",
    "\n",
    "    def perimeter(self):\n",
    "        return 2 * 3.14 * self.radius\n",
    "\n",
    "# Attempting to create an instance of the abstract base class will result in an error:\n",
    "# shape = Shape()  # This will raise a TypeError\n",
    "\n",
    "# Create an instance of the concrete subclass\n",
    "circle = Circle(5)\n",
    "print(\"Circle Area:\", circle.area())\n",
    "print(\"Circle Perimeter:\", circle.perimeter())"
   ]
  },
  {
   "cell_type": "markdown",
   "id": "5e6a040a",
   "metadata": {},
   "source": [
    "# Q4. How can we achieve data abstraction?"
   ]
  },
  {
   "cell_type": "markdown",
   "id": "bfe2a97c",
   "metadata": {},
   "source": [
    "Data abstraction is one of the key concepts in programming, and it's often associated with object-oriented programming (OOP). It allows you to hide the complex implementation details of data and provide a simplified and controlled interface for interacting with that data. Here are some ways to achieve data abstraction in programming:\n",
    "\n",
    "1. Object-Oriented Programming (OOP):\n",
    "\n",
    "i. Classes and Objects: In OOP, you can define classes to encapsulate data (attributes) and methods (functions) that operate on that data. Objects are instances of these classes, and they provide a way to interact with the data through well-defined methods while hiding the internal details.\n",
    "\n",
    "ii. Access Control: Use access modifiers like public, private, and protected to control the visibility and accessibility of data members within a class. Private attributes and methods are not directly accessible from outside the class, promoting data abstraction."
   ]
  },
  {
   "cell_type": "code",
   "execution_count": 7,
   "id": "5723b5bd",
   "metadata": {},
   "outputs": [],
   "source": [
    "class BankAccount:\n",
    "    def __init__(self, account_number, balance):\n",
    "        self.__account_number = account_number  # Private attribute\n",
    "        self.__balance = balance  # Private attribute\n",
    "\n",
    "    def deposit(self, amount):\n",
    "        if amount > 0:\n",
    "            self.__balance += amount\n",
    "\n",
    "    def withdraw(self, amount):\n",
    "        if amount > 0 and amount <= self.__balance:\n",
    "            self.__balance -= amount\n",
    "\n",
    "    def get_balance(self):\n",
    "        return self.__balance"
   ]
  },
  {
   "cell_type": "markdown",
   "id": "b6849806",
   "metadata": {},
   "source": [
    "2. Abstract Data Types (ADTs):\n",
    "\n",
    "i. ADTs are a higher-level concept that allows you to define a data structure along with the operations that can be performed on it, without specifying the implementation. Common ADTs include lists, stacks, queues, and dictionaries.\n",
    "\n",
    "ii. Libraries and programming languages often provide ADTs as built-in or standard data structures. For example, in Python, you can use lists as an ADT without needing to know their internal implementation details."
   ]
  },
  {
   "cell_type": "code",
   "execution_count": 8,
   "id": "0d26f4de",
   "metadata": {},
   "outputs": [],
   "source": [
    "my_list = [1, 2, 3, 4, 5]  # Using the list ADT\n",
    "my_list.append(6)  # Adding an element to the list"
   ]
  },
  {
   "cell_type": "markdown",
   "id": "2b1865c1",
   "metadata": {},
   "source": [
    "3. Interfaces and Abstract Classes:\n",
    "\n",
    "i. Define interfaces or abstract classes in your program to establish a contract for classes that work with specific data. These interfaces provide method signatures that concrete classes must implement, ensuring a consistent way of interacting with the data.\n",
    "\n",
    "ii. This approach is commonly used in languages like Java and Python (using the abc module)."
   ]
  },
  {
   "cell_type": "code",
   "execution_count": 9,
   "id": "af3247a8",
   "metadata": {},
   "outputs": [],
   "source": [
    "from abc import ABC, abstractmethod\n",
    "\n",
    "class DataStore(ABC):\n",
    "    @abstractmethod\n",
    "    def save(self, data):\n",
    "        pass\n",
    "\n",
    "    @abstractmethod\n",
    "    def retrieve(self):\n",
    "        pass"
   ]
  },
  {
   "cell_type": "markdown",
   "id": "f577d193",
   "metadata": {},
   "source": [
    "4. Encapsulation and Modularity:\n",
    "\n",
    "i. Use encapsulation to bundle related data and functions together within a module or class. This helps in achieving data abstraction by providing a clear separation between the internal workings of the module or class and its external interface.\n",
    "\n",
    "ii. Break down your program into smaller, modular components, each with well-defined responsibilities and interfaces. This promotes abstraction at the module level."
   ]
  },
  {
   "cell_type": "markdown",
   "id": "4a60861c",
   "metadata": {},
   "source": [
    "# Q5. Can we create an instance of an abstract class? Explain your answer. "
   ]
  },
  {
   "cell_type": "markdown",
   "id": "25e90813",
   "metadata": {},
   "source": [
    "No"
   ]
  },
  {
   "cell_type": "markdown",
   "id": "b0a234cc",
   "metadata": {},
   "source": [
    "Here's why you cannot create an instance of an abstract class:\n",
    "\n",
    "1. Incomplete Implementation: Abstract classes contain one or more abstract methods, which are essentially placeholders for methods that must be implemented in concrete subclasses. Since the abstract class itself does not provide implementations for these methods, it is incomplete and cannot be instantiated.\n",
    "\n",
    "2. Enforcement of Subclass Implementation: The primary purpose of abstract classes is to define a contract or interface that derived classes must adhere to. By preventing the instantiation of the abstract class, the language enforces that any instance created must be a concrete subclass that provides implementations for all the abstract methods."
   ]
  },
  {
   "cell_type": "code",
   "execution_count": 10,
   "id": "5173f167",
   "metadata": {},
   "outputs": [],
   "source": [
    "from abc import ABC, abstractmethod\n",
    "\n",
    "class MyAbstractClass(ABC):\n",
    "    @abstractmethod\n",
    "    def abstract_method(self):\n",
    "        pass\n",
    "\n",
    "# Attempting to create an instance of the abstract class will result in a TypeError:\n",
    "# my_instance = MyAbstractClass()  # This will raise a TypeError"
   ]
  },
  {
   "cell_type": "code",
   "execution_count": 11,
   "id": "834d10a0",
   "metadata": {},
   "outputs": [
    {
     "name": "stdout",
     "output_type": "stream",
     "text": [
      "Implementation in concrete class\n"
     ]
    }
   ],
   "source": [
    "class MyConcreteClass(MyAbstractClass):\n",
    "    def abstract_method(self):\n",
    "        return \"Implementation in concrete class\"\n",
    "\n",
    "# Creating an instance of the concrete subclass is allowed:\n",
    "my_instance = MyConcreteClass()\n",
    "result = my_instance.abstract_method()\n",
    "print(result)  # Output: \"Implementation in concrete class\""
   ]
  },
  {
   "cell_type": "code",
   "execution_count": null,
   "id": "48682ffb",
   "metadata": {},
   "outputs": [],
   "source": []
  }
 ],
 "metadata": {
  "kernelspec": {
   "display_name": "Python 3 (ipykernel)",
   "language": "python",
   "name": "python3"
  },
  "language_info": {
   "codemirror_mode": {
    "name": "ipython",
    "version": 3
   },
   "file_extension": ".py",
   "mimetype": "text/x-python",
   "name": "python",
   "nbconvert_exporter": "python",
   "pygments_lexer": "ipython3",
   "version": "3.10.9"
  }
 },
 "nbformat": 4,
 "nbformat_minor": 5
}
