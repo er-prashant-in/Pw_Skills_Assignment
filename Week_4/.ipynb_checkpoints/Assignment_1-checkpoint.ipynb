{
 "cells": [
  {
   "cell_type": "markdown",
   "id": "9cdfca88",
   "metadata": {},
   "source": [
    "# Q1. Create a vehicle class with an init method having instance variables as name_of_vehicle, max_speed and average_of_vehicle."
   ]
  },
  {
   "cell_type": "code",
   "execution_count": 1,
   "id": "825d48b8",
   "metadata": {},
   "outputs": [
    {
     "name": "stdout",
     "output_type": "stream",
     "text": [
      "Name: Car, Max Speed: 200, Average Speed: 40\n"
     ]
    }
   ],
   "source": [
    "class Vehicle:\n",
    "    def __init__(self, name_of_vehicle, max_speed, average_of_vehicle):\n",
    "        self.name_of_vehicle = name_of_vehicle\n",
    "        self.max_speed = max_speed\n",
    "        self.average_of_vehicle = average_of_vehicle\n",
    "\n",
    "# Creating an instance of the Vehicle class\n",
    "car = Vehicle(\"Car\", 200, 40)\n",
    "print(f\"Name: {car.name_of_vehicle}, Max Speed: {car.max_speed}, Average Speed: {car.average_of_vehicle}\")"
   ]
  },
  {
   "cell_type": "markdown",
   "id": "a334f62c",
   "metadata": {},
   "source": [
    "# Q2.  Create a child class car from the vehicle class created in Que 1, which will inherit the vehicle class. Create a method named seating_capacity which takes capacity as an argument and returns the name of the vehicle and its seating capacity."
   ]
  },
  {
   "cell_type": "code",
   "execution_count": 2,
   "id": "272af2f9",
   "metadata": {},
   "outputs": [
    {
     "name": "stdout",
     "output_type": "stream",
     "text": [
      "Name: Sedan, Max Speed: 180, Average Speed: 30\n",
      "Sedan has a seating capacity of 5 people.\n"
     ]
    }
   ],
   "source": [
    "class Vehicle:\n",
    "    def __init__(self, name_of_vehicle, max_speed, average_of_vehicle):\n",
    "        self.name_of_vehicle = name_of_vehicle\n",
    "        self.max_speed = max_speed\n",
    "        self.average_of_vehicle = average_of_vehicle\n",
    "\n",
    "class Car(Vehicle):\n",
    "    def __init__(self, name_of_vehicle, max_speed, average_of_vehicle):\n",
    "        super().__init__(name_of_vehicle, max_speed, average_of_vehicle)\n",
    "        \n",
    "    def seating_capacity(self, capacity):\n",
    "        return f\"{self.name_of_vehicle} has a seating capacity of {capacity} people.\"\n",
    "\n",
    "# Creating an instance of the Car class\n",
    "car = Car(\"Sedan\", 180, 30)\n",
    "print(f\"Name: {car.name_of_vehicle}, Max Speed: {car.max_speed}, Average Speed: {car.average_of_vehicle}\")\n",
    "print(car.seating_capacity(5))"
   ]
  },
  {
   "cell_type": "markdown",
   "id": "0d139bf1",
   "metadata": {},
   "source": [
    "# Q3. What is multiple inheritance? Write a python code to demonstrate multiple inheritance."
   ]
  },
  {
   "cell_type": "raw",
   "id": "5505b3af",
   "metadata": {},
   "source": [
    "Multiple inheritance is a feature in object-oriented programming where a class can inherit attributes and behaviors from more than one parent class. This means that a child class can inherit attributes and methods from multiple parent classes. However, multiple inheritance can lead to complex inheritance hierarchies and potential conflicts, so it should be used with caution."
   ]
  },
  {
   "cell_type": "code",
   "execution_count": 3,
   "id": "cde0b479",
   "metadata": {},
   "outputs": [
    {
     "name": "stdout",
     "output_type": "stream",
     "text": [
      "This is a HybridCar with a max speed of 150.\n",
      "This vehicle runs on electricity with a battery capacity of 50 kWh.\n",
      "This is a hybrid vehicle that is HybridCar, with max speed 150 and battery capacity 50 kWh.\n"
     ]
    }
   ],
   "source": [
    "class Vehicle:\n",
    "    def __init__(self, name, max_speed):\n",
    "        self.name = name\n",
    "        self.max_speed = max_speed\n",
    "\n",
    "    def get_info(self):\n",
    "        return f\"This is a {self.name} with a max speed of {self.max_speed}.\"\n",
    "\n",
    "class Electric:\n",
    "    def __init__(self, battery_capacity):\n",
    "        self.battery_capacity = battery_capacity\n",
    "\n",
    "    def electric_info(self):\n",
    "        return f\"This vehicle runs on electricity with a battery capacity of {self.battery_capacity}.\"\n",
    "\n",
    "class HybridVehicle(Vehicle, Electric):\n",
    "    def __init__(self, name, max_speed, battery_capacity):\n",
    "        Vehicle.__init__(self, name, max_speed)\n",
    "        Electric.__init__(self, battery_capacity)\n",
    "\n",
    "    def hybrid_info(self):\n",
    "        return f\"This is a hybrid vehicle that is {self.name}, with max speed {self.max_speed} and battery capacity {self.battery_capacity}.\"\n",
    "\n",
    "# Creating an instance of the HybridVehicle class\n",
    "hybrid_car = HybridVehicle(\"HybridCar\", 150, \"50 kWh\")\n",
    "\n",
    "print(hybrid_car.get_info())\n",
    "print(hybrid_car.electric_info())\n",
    "print(hybrid_car.hybrid_info())"
   ]
  },
  {
   "cell_type": "markdown",
   "id": "dc2b1abc",
   "metadata": {},
   "source": [
    "# Q4. What are getter and setter in python? Create a class and create a getter and a setter method in this class."
   ]
  },
  {
   "cell_type": "markdown",
   "id": "aa3241a2",
   "metadata": {},
   "source": [
    "Getter and setter methods are used in object-oriented programming to control access to the attributes (instance variables) of a class. They provide a way to encapsulate the data within an object and allow controlled access to it. Getter methods are used to retrieve the value of an attribute, while setter methods are used to set or modify the value of an attribute. This helps in maintaining data integrity and applying validation logic if needed."
   ]
  },
  {
   "cell_type": "code",
   "execution_count": 4,
   "id": "d9c51ec6",
   "metadata": {},
   "outputs": [
    {
     "name": "stdout",
     "output_type": "stream",
     "text": [
      "Name: Alice\n",
      "Age: 20\n",
      "Updated Name: Bob\n",
      "Updated Age: 25\n"
     ]
    }
   ],
   "source": [
    "class Student:\n",
    "    def __init__(self, name, age):\n",
    "        self._name = name  # Using a single underscore to indicate it's a protected attribute\n",
    "        self._age = age\n",
    "\n",
    "    # Getter method for name\n",
    "    def get_name(self):\n",
    "        return self._name\n",
    "\n",
    "    # Setter method for name\n",
    "    def set_name(self, new_name):\n",
    "        if isinstance(new_name, str):\n",
    "            self._name = new_name\n",
    "        else:\n",
    "            print(\"Name must be a string.\")\n",
    "\n",
    "    # Getter method for age\n",
    "    def get_age(self):\n",
    "        return self._age\n",
    "\n",
    "    # Setter method for age\n",
    "    def set_age(self, new_age):\n",
    "        if isinstance(new_age, int) and new_age >= 0:\n",
    "            self._age = new_age\n",
    "        else:\n",
    "            print(\"Age must be a positive integer.\")\n",
    "\n",
    "# Creating an instance of the Student class\n",
    "student = Student(\"Alice\", 20)\n",
    "\n",
    "# Using getter methods\n",
    "print(\"Name:\", student.get_name())\n",
    "print(\"Age:\", student.get_age())\n",
    "\n",
    "# Using setter methods\n",
    "student.set_name(\"Bob\")\n",
    "student.set_age(25)\n",
    "\n",
    "print(\"Updated Name:\", student.get_name())\n",
    "print(\"Updated Age:\", student.get_age())"
   ]
  },
  {
   "cell_type": "markdown",
   "id": "912a764a",
   "metadata": {},
   "source": [
    "# Q5.What is method overriding in python? Write a python code to demonstrate method overriding. "
   ]
  },
  {
   "cell_type": "markdown",
   "id": "cbad3fbd",
   "metadata": {},
   "source": [
    "Method overriding is a concept in object-oriented programming where a subclass provides a specific implementation for a method that is already defined in its superclass. This allows the subclass to modify or extend the behavior of the inherited method while keeping the same method signature."
   ]
  },
  {
   "cell_type": "code",
   "execution_count": 5,
   "id": "374df5fe",
   "metadata": {},
   "outputs": [
    {
     "name": "stdout",
     "output_type": "stream",
     "text": [
      "Some generic animal sound\n",
      "Meow\n",
      "Woof\n"
     ]
    }
   ],
   "source": [
    "class Animal:\n",
    "    def make_sound(self):\n",
    "        print(\"Some generic animal sound\")\n",
    "\n",
    "class Cat(Animal):\n",
    "    def make_sound(self):\n",
    "        print(\"Meow\")\n",
    "\n",
    "class Dog(Animal):\n",
    "    def make_sound(self):\n",
    "        print(\"Woof\")\n",
    "\n",
    "# Creating instances of the subclasses\n",
    "animal = Animal()\n",
    "cat = Cat()\n",
    "dog = Dog()\n",
    "\n",
    "# Calling the make_sound method on each instance\n",
    "animal.make_sound()  # Output: Some generic animal sound\n",
    "cat.make_sound()     # Output: Meow\n",
    "dog.make_sound()     # Output: Woof"
   ]
  }
 ],
 "metadata": {
  "kernelspec": {
   "display_name": "Python 3 (ipykernel)",
   "language": "python",
   "name": "python3"
  },
  "language_info": {
   "codemirror_mode": {
    "name": "ipython",
    "version": 3
   },
   "file_extension": ".py",
   "mimetype": "text/x-python",
   "name": "python",
   "nbconvert_exporter": "python",
   "pygments_lexer": "ipython3",
   "version": "3.10.9"
  }
 },
 "nbformat": 4,
 "nbformat_minor": 5
}
