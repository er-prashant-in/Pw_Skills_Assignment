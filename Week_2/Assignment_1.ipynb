{
 "cells": [
  {
   "cell_type": "markdown",
   "id": "d3736f1d",
   "metadata": {},
   "source": [
    "# Q1. How do you comment code in Python? What are the different types of comments?"
   ]
  },
  {
   "cell_type": "markdown",
   "id": "60af772f",
   "metadata": {},
   "source": [
    "1. Single-Line Comments:\n",
    "Single-line comments are used for brief explanations or notes on a single line of code. To create a single-line comment, use the # symbol followed by the comment text."
   ]
  },
  {
   "cell_type": "code",
   "execution_count": 3,
   "id": "909d210f",
   "metadata": {},
   "outputs": [],
   "source": [
    "# This is a single-line comment\n",
    "x = 5  # This comment explains the purpose of this line"
   ]
  },
  {
   "cell_type": "markdown",
   "id": "be51e91e",
   "metadata": {},
   "source": [
    "2. Multi-Line Comments (Docstrings):\n",
    "Multi-line comments are used for more extensive explanations, documentation, or docstrings (documentation strings) for functions, classes, and modules. Python's convention for multi-line comments is to use triple quotes (''' or \"\"\") as delimiters."
   ]
  },
  {
   "cell_type": "code",
   "execution_count": 2,
   "id": "37816cb9",
   "metadata": {},
   "outputs": [],
   "source": [
    "'''\n",
    "This is a multi-line comment.\n",
    "It can span multiple lines and is often used as a docstring.\n",
    "'''\n",
    "def my_function():\n",
    "    \"\"\"\n",
    "    This is a docstring.\n",
    "    It provides information about the purpose and usage of the function.\n",
    "    \"\"\"\n",
    "    # Function code here"
   ]
  },
  {
   "cell_type": "markdown",
   "id": "f1914c10",
   "metadata": {},
   "source": [
    "# Q2. What are variables in Python? How do you declare and assign values to variables?"
   ]
  },
  {
   "cell_type": "markdown",
   "id": "18ee80a8",
   "metadata": {},
   "source": [
    "In Python, variables are used to store and manage data. A variable is a symbolic name that references a value in memory. Variables allow you to store different types of data, such as numbers, strings, lists, and more, and manipulate them in your code."
   ]
  },
  {
   "cell_type": "code",
   "execution_count": 5,
   "id": "0643953b",
   "metadata": {},
   "outputs": [],
   "source": [
    "# Variable declaration and assignment\n",
    "'''variable_name = value'''\n",
    "\n",
    "# Examples\n",
    "name = \"Alice\"         # Assign a string value to the variable 'name'\n",
    "age = 30               # Assign an integer value to the variable 'age'\n",
    "pi = 3.14159           # Assign a floating-point value to the variable 'pi'\n",
    "is_student = True      # Assign a boolean value to the variable 'is_student'\n",
    "\n",
    "# Variables can also be assigned the result of expressions or calculations\n",
    "sum_of_numbers = 5 + 10\n",
    "greeting = \"Hello, \" + name"
   ]
  },
  {
   "cell_type": "markdown",
   "id": "301d1441",
   "metadata": {},
   "source": [
    "Variable names must follow certain rules:\n",
    "\n",
    "1. They can contain letters (uppercase or lowercase), digits, and underscores.\n",
    "2. They must start with a letter or an underscore.\n",
    "3. Variable names are case-sensitive (\"my_var\" and \"My_Var\" are different variables).\n",
    "4. Avoid using Python's reserved keywords (like if, else, for, etc.) as variable names."
   ]
  },
  {
   "cell_type": "markdown",
   "id": "222281b7",
   "metadata": {},
   "source": [
    "# Q3.  How do you convert one data type to another in Python?"
   ]
  },
  {
   "cell_type": "markdown",
   "id": "9790fafd",
   "metadata": {},
   "source": [
    "Using Built-in Functions:\n",
    "\n",
    "1. int(): Converts a value to an integer.\n",
    "2. float(): Converts a value to a floating-point number.\n",
    "3. str(): Converts a value to a string.\n",
    "4. bool(): Converts a value to a boolean."
   ]
  },
  {
   "cell_type": "code",
   "execution_count": 6,
   "id": "2bd3fe4d",
   "metadata": {},
   "outputs": [],
   "source": [
    "# Examples\n",
    "x = 5\n",
    "x_as_float = float(x)\n",
    "x_as_str = str(x)\n",
    "x_as_bool = bool(x_as_float)\n",
    "\n",
    "y = \"10\"\n",
    "y_as_int = int(y)\n",
    "y_as_float = float(y)\n",
    "\n",
    "z = False\n",
    "z_as_int = int(z)\n",
    "z_as_str = str(z)"
   ]
  },
  {
   "cell_type": "markdown",
   "id": "da901aa5",
   "metadata": {},
   "source": [
    "Implicit Type Conversion (Type Coercion):\n",
    "Python sometimes performs type conversion automatically when you combine values of different types in an expression."
   ]
  },
  {
   "cell_type": "code",
   "execution_count": 7,
   "id": "a71535bb",
   "metadata": {},
   "outputs": [],
   "source": [
    "a = 5\n",
    "b = 2.5\n",
    "c = a + b  # Implicit conversion: 'a' is temporarily converted to a float for the addition."
   ]
  },
  {
   "cell_type": "markdown",
   "id": "165febd0",
   "metadata": {},
   "source": [
    "Using Specific Conversion Functions:\n",
    "Some data types have specific methods to convert to other types:\n",
    "\n",
    "1. list(): Converts an iterable (like a tuple or string) to a list.\n",
    "2. tuple(): Converts an iterable to a tuple.\n",
    "3. set(): Converts an iterable to a set.\n",
    "4. dict(): Converts a sequence of key-value pairs (like a list of tuples) to a dictionary."
   ]
  },
  {
   "cell_type": "code",
   "execution_count": 9,
   "id": "5ad1b6b5",
   "metadata": {},
   "outputs": [],
   "source": [
    "my_tuple = (1, 2, 3)\n",
    "my_list = list(my_tuple)\n",
    "\n",
    "my_string = \"hello\"\n",
    "my_set = set(my_string)\n",
    "\n",
    "key_value_pairs = [(\"a\", 1), (\"b\", 2)]\n",
    "my_dict = dict(key_value_pairs)"
   ]
  },
  {
   "cell_type": "markdown",
   "id": "63064c4d",
   "metadata": {},
   "source": [
    "Using the format() Method:\n",
    "1. The format() method of strings can be used to convert values to strings and include them in a formatted string."
   ]
  },
  {
   "cell_type": "code",
   "execution_count": 10,
   "id": "04f64273",
   "metadata": {},
   "outputs": [],
   "source": [
    "age = 25\n",
    "formatted_age = \"My age is {}\".format(age)"
   ]
  },
  {
   "cell_type": "markdown",
   "id": "1858d536",
   "metadata": {},
   "source": [
    "Using map():\n",
    "1. The map() function can be used to apply a conversion function to each element of an iterable."
   ]
  },
  {
   "cell_type": "code",
   "execution_count": 11,
   "id": "f7182d56",
   "metadata": {},
   "outputs": [],
   "source": [
    "numbers = [\"1\", \"2\", \"3\"]\n",
    "numbers_as_int = list(map(int, numbers))"
   ]
  },
  {
   "cell_type": "markdown",
   "id": "ca81ab94",
   "metadata": {},
   "source": [
    "# Q4. How do you write and execute a Python script from the command line?"
   ]
  },
  {
   "cell_type": "raw",
   "id": "d0947287",
   "metadata": {},
   "source": [
    "1. Write Your Python Script:\n",
    "Open a text editor (like Notepad on Windows, nano on Linux/macOS, or any code editor you prefer) and write your Python code. Save the file with a .py extension. For example, you can save your script as my_script.py."
   ]
  },
  {
   "cell_type": "code",
   "execution_count": 15,
   "id": "fd255ca5",
   "metadata": {},
   "outputs": [
    {
     "name": "stdout",
     "output_type": "stream",
     "text": [
      "Hello, world!\n"
     ]
    }
   ],
   "source": [
    "# my_script.py\n",
    "print(\"Hello, world!\")"
   ]
  },
  {
   "cell_type": "raw",
   "id": "fd572fc8",
   "metadata": {},
   "source": [
    "2. Open the Command Line Interface:\n",
    "On Windows, open the Command Prompt (search for \"cmd\" in the Start menu). On Linux/macOS, open the Terminal.\n",
    "\n",
    "3. Navigate to the Script's Directory:\n",
    "Use the cd command to navigate to the directory where your Python script is saved. For example, if your script is saved on the desktop, you might use:"
   ]
  },
  {
   "cell_type": "code",
   "execution_count": 19,
   "id": "e7499a12",
   "metadata": {},
   "outputs": [
    {
     "name": "stdout",
     "output_type": "stream",
     "text": [
      "G:\\pw_skills\\Assignment\\Week_2\n"
     ]
    }
   ],
   "source": [
    "cd G:\\pw_skills\\Assignment\\Week_2"
   ]
  },
  {
   "cell_type": "raw",
   "id": "7db44ebb",
   "metadata": {},
   "source": [
    "4. Execute the Script:\n",
    "To execute the Python script, use the python command followed by the script's filename."
   ]
  },
  {
   "cell_type": "raw",
   "id": "c545856e",
   "metadata": {},
   "source": [
    "python my_script.py"
   ]
  },
  {
   "cell_type": "raw",
   "id": "376ae225",
   "metadata": {},
   "source": [
    "Your script will be executed, and the output will be displayed in the command line:"
   ]
  },
  {
   "cell_type": "raw",
   "id": "73aad910",
   "metadata": {},
   "source": [
    "Hello, world!"
   ]
  },
  {
   "cell_type": "markdown",
   "id": "f65d22eb",
   "metadata": {},
   "source": [
    "# Q5. Given a list my_list = [1, 2, 3, 4, 5], write the code to slice the list and obtain the sub-list [2, 3]."
   ]
  },
  {
   "cell_type": "code",
   "execution_count": 23,
   "id": "df1585ce",
   "metadata": {},
   "outputs": [
    {
     "name": "stdout",
     "output_type": "stream",
     "text": [
      "[2, 3]\n"
     ]
    }
   ],
   "source": [
    "my_list = [1, 2, 3, 4, 5]\n",
    "sub_list = my_list[1:3]  # Start index is inclusive, end index is exclusive\n",
    "\n",
    "print(sub_list)  # Output: [2, 3]"
   ]
  },
  {
   "cell_type": "markdown",
   "id": "7f8544d5",
   "metadata": {},
   "source": [
    "# Q6. What is a complex number in mathematics, and how is it represented in Python?"
   ]
  },
  {
   "cell_type": "code",
   "execution_count": 24,
   "id": "91f77199",
   "metadata": {},
   "outputs": [
    {
     "name": "stdout",
     "output_type": "stream",
     "text": [
      "(3+4j)\n",
      "(2+5j)\n",
      "3.0\n",
      "4.0\n"
     ]
    }
   ],
   "source": [
    "# Using the complex() constructor\n",
    "z1 = complex(3, 4)  # 3 + 4j\n",
    "\n",
    "# Using the imaginary unit directly\n",
    "z2 = 2 + 5j\n",
    "\n",
    "# Printing complex numbers\n",
    "print(z1)  # Output: (3+4j)\n",
    "print(z2)  # Output: (2+5j)\n",
    "\n",
    "# Accessing real and imaginary parts\n",
    "real_part = z1.real\n",
    "imaginary_part = z1.imag\n",
    "\n",
    "print(real_part)       # Output: 3.0\n",
    "print(imaginary_part)  # Output: 4.0"
   ]
  },
  {
   "cell_type": "markdown",
   "id": "61bff0ad",
   "metadata": {},
   "source": [
    "# Q7. What is the correct way to declare a variable named age and assign the value 25 to it?"
   ]
  },
  {
   "cell_type": "code",
   "execution_count": 25,
   "id": "3d5d54cc",
   "metadata": {},
   "outputs": [],
   "source": [
    "age = 25"
   ]
  },
  {
   "cell_type": "markdown",
   "id": "fb4f595b",
   "metadata": {},
   "source": [
    "# Q8. Declare a variable named price and assign the value 9.99 to it. What data type does this variable belong to?"
   ]
  },
  {
   "cell_type": "code",
   "execution_count": 26,
   "id": "69fa182e",
   "metadata": {},
   "outputs": [
    {
     "data": {
      "text/plain": [
       "float"
      ]
     },
     "execution_count": 26,
     "metadata": {},
     "output_type": "execute_result"
    }
   ],
   "source": [
    "price = 9.99\n",
    "type(price)"
   ]
  },
  {
   "cell_type": "markdown",
   "id": "60e8cd33",
   "metadata": {},
   "source": [
    "# Q9. Create a variable named name and assign your full name to it as a string. How would you print the value of this variable?"
   ]
  },
  {
   "cell_type": "code",
   "execution_count": 27,
   "id": "a42295a9",
   "metadata": {},
   "outputs": [
    {
     "name": "stdout",
     "output_type": "stream",
     "text": [
      "It's Confidential\n"
     ]
    }
   ],
   "source": [
    "name = \"It's Confidential\"\n",
    "print(name)"
   ]
  },
  {
   "cell_type": "markdown",
   "id": "c8085364",
   "metadata": {},
   "source": [
    "# Q10. Given the string \"Hello, World!\", extract the substring \"World\"."
   ]
  },
  {
   "cell_type": "code",
   "execution_count": 28,
   "id": "6c80a849",
   "metadata": {},
   "outputs": [
    {
     "name": "stdout",
     "output_type": "stream",
     "text": [
      "World\n"
     ]
    }
   ],
   "source": [
    "text = \"Hello, World!\"\n",
    "substring = text[7:12]\n",
    "print(substring)"
   ]
  },
  {
   "cell_type": "markdown",
   "id": "61e4db63",
   "metadata": {},
   "source": [
    "# Q11.  Create a variable named \"is_student\" and assign it a boolean value indicating whether you are currently a student or not."
   ]
  },
  {
   "cell_type": "code",
   "execution_count": 29,
   "id": "e5b12cec",
   "metadata": {},
   "outputs": [],
   "source": [
    "is_student = True  # If you are currently a student\n",
    "# OR\n",
    "is_student = False  # If you are not currently a student"
   ]
  }
 ],
 "metadata": {
  "kernelspec": {
   "display_name": "Python 3 (ipykernel)",
   "language": "python",
   "name": "python3"
  },
  "language_info": {
   "codemirror_mode": {
    "name": "ipython",
    "version": 3
   },
   "file_extension": ".py",
   "mimetype": "text/x-python",
   "name": "python",
   "nbconvert_exporter": "python",
   "pygments_lexer": "ipython3",
   "version": "3.10.9"
  }
 },
 "nbformat": 4,
 "nbformat_minor": 5
}
