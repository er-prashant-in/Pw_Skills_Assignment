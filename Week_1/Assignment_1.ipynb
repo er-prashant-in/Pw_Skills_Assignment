{
 "cells": [
  {
   "cell_type": "markdown",
   "id": "4e58385f",
   "metadata": {},
   "source": [
    "# Q1. Create one variable containing following type of data:"
   ]
  },
  {
   "cell_type": "code",
   "execution_count": 11,
   "id": "acc7a4c9",
   "metadata": {},
   "outputs": [],
   "source": [
    "var1=[\"PW_skills\",[1,2,3,\"DataScience\",3.5],7.757,(10,100)]"
   ]
  },
  {
   "cell_type": "markdown",
   "id": "f584938e",
   "metadata": {},
   "source": [
    "# Q2. Given are some following variables containing data.What will be the data type of the above given variable."
   ]
  },
  {
   "cell_type": "code",
   "execution_count": 13,
   "id": "60548e86",
   "metadata": {},
   "outputs": [
    {
     "data": {
      "text/plain": [
       "str"
      ]
     },
     "execution_count": 13,
     "metadata": {},
     "output_type": "execute_result"
    }
   ],
   "source": [
    "var1 =''\n",
    "type(var1)"
   ]
  },
  {
   "cell_type": "code",
   "execution_count": 14,
   "id": "2c6bcb0c",
   "metadata": {},
   "outputs": [
    {
     "data": {
      "text/plain": [
       "str"
      ]
     },
     "execution_count": 14,
     "metadata": {},
     "output_type": "execute_result"
    }
   ],
   "source": [
    "var2 = '[ DS , ML , Python]'\n",
    "type(var2)"
   ]
  },
  {
   "cell_type": "code",
   "execution_count": 15,
   "id": "3a946d05",
   "metadata": {},
   "outputs": [
    {
     "data": {
      "text/plain": [
       "list"
      ]
     },
     "execution_count": 15,
     "metadata": {},
     "output_type": "execute_result"
    }
   ],
   "source": [
    "var3=['DS','ML','Python']\n",
    "type(var3)"
   ]
  },
  {
   "cell_type": "code",
   "execution_count": 16,
   "id": "aa1a4ac4",
   "metadata": {},
   "outputs": [
    {
     "data": {
      "text/plain": [
       "float"
      ]
     },
     "execution_count": 16,
     "metadata": {},
     "output_type": "execute_result"
    }
   ],
   "source": [
    "var4=1.\n",
    "type(var4)"
   ]
  },
  {
   "cell_type": "markdown",
   "id": "fb5c5038",
   "metadata": {},
   "source": [
    "# Q3. Explain the use of the following operators using an example:"
   ]
  },
  {
   "cell_type": "code",
   "execution_count": 18,
   "id": "a77bdf02",
   "metadata": {},
   "outputs": [
    {
     "data": {
      "text/plain": [
       "3.3333333333333335"
      ]
     },
     "execution_count": 18,
     "metadata": {},
     "output_type": "execute_result"
    }
   ],
   "source": [
    "'''(i)/ :- It is an Division Operator. It divides one number by another and returns the quotient as a floating-point number'''\n",
    "sum=10/3\n",
    "sum"
   ]
  },
  {
   "cell_type": "code",
   "execution_count": 19,
   "id": "14c398d7",
   "metadata": {},
   "outputs": [
    {
     "data": {
      "text/plain": [
       "1"
      ]
     },
     "execution_count": 19,
     "metadata": {},
     "output_type": "execute_result"
    }
   ],
   "source": [
    "'''(ii)% :- This is an modulo operator. It returns the remainder when one number is divided by another.'''\n",
    "sum=10%3\n",
    "sum"
   ]
  },
  {
   "cell_type": "code",
   "execution_count": 20,
   "id": "11f2cc6e",
   "metadata": {},
   "outputs": [
    {
     "data": {
      "text/plain": [
       "3"
      ]
     },
     "execution_count": 20,
     "metadata": {},
     "output_type": "execute_result"
    }
   ],
   "source": [
    "'''(iii)// :- This is an floor division operator. t divides one number by another and returns the quotient rounded down to the nearest integer.'''\n",
    "sum=10//3\n",
    "sum"
   ]
  },
  {
   "cell_type": "code",
   "execution_count": 21,
   "id": "af244f1b",
   "metadata": {},
   "outputs": [
    {
     "data": {
      "text/plain": [
       "1000"
      ]
     },
     "execution_count": 21,
     "metadata": {},
     "output_type": "execute_result"
    }
   ],
   "source": [
    "'''(iv) ** :- This is an exponentiation operator. It raises a number to the power of another number.'''\n",
    "sum=10**3\n",
    "sum"
   ]
  },
  {
   "cell_type": "markdown",
   "id": "a8911198",
   "metadata": {},
   "source": [
    "# Q4. Create a list of length 10 of your choice containing multiple types of data. Using for loop print the element and its data type."
   ]
  },
  {
   "cell_type": "code",
   "execution_count": 23,
   "id": "87b8e6b2",
   "metadata": {},
   "outputs": [
    {
     "name": "stdout",
     "output_type": "stream",
     "text": [
      "<class 'bool'>\n",
      "<class 'str'>\n",
      "<class 'int'>\n",
      "<class 'bool'>\n",
      "<class 'float'>\n",
      "<class 'list'>\n",
      "<class 'tuple'>\n",
      "<class 'complex'>\n",
      "<class 'set'>\n",
      "<class 'str'>\n"
     ]
    }
   ],
   "source": [
    "lst=[True, \"Data\",258,10<0,15.65,[4,5,8],(4,5,0),4+5j,set(),bin(16)]\n",
    "for i in lst:\n",
    "    print(type(i))"
   ]
  },
  {
   "cell_type": "markdown",
   "id": "660614b1",
   "metadata": {},
   "source": [
    "# Q5. Using a while loop, verify if the number A is purely divisible by number B and if so then how many times it can be divisible."
   ]
  },
  {
   "cell_type": "code",
   "execution_count": 25,
   "id": "c3c97700",
   "metadata": {},
   "outputs": [
    {
     "name": "stdout",
     "output_type": "stream",
     "text": [
      "B divide A:  10  times\n"
     ]
    }
   ],
   "source": [
    "a=100\n",
    "b=10\n",
    "while a%b==0:\n",
    "    print(\"B divide A: \",int(a/b),\" times\")\n",
    "    break"
   ]
  },
  {
   "cell_type": "markdown",
   "id": "71d05247",
   "metadata": {},
   "source": [
    "# Q6. Create a list containing 25 int type data. Using for loop and if-else condition print if the element is divisible by 3 or not."
   ]
  },
  {
   "cell_type": "code",
   "execution_count": 31,
   "id": "959b516b",
   "metadata": {},
   "outputs": [
    {
     "name": "stdout",
     "output_type": "stream",
     "text": [
      "1 is not divisible by 3\n",
      "2 is not divisible by 3\n",
      "3 divisible by 3\n",
      "4 is not divisible by 3\n",
      "5 is not divisible by 3\n",
      "6 divisible by 3\n",
      "7 is not divisible by 3\n",
      "8 is not divisible by 3\n",
      "9 divisible by 3\n",
      "10 is not divisible by 3\n",
      "11 is not divisible by 3\n",
      "12 divisible by 3\n",
      "13 is not divisible by 3\n",
      "14 is not divisible by 3\n",
      "15 divisible by 3\n",
      "16 is not divisible by 3\n",
      "17 is not divisible by 3\n",
      "18 divisible by 3\n",
      "19 is not divisible by 3\n",
      "20 is not divisible by 3\n",
      "21 divisible by 3\n",
      "22 is not divisible by 3\n",
      "23 is not divisible by 3\n",
      "24 divisible by 3\n",
      "25 is not divisible by 3\n"
     ]
    }
   ],
   "source": [
    "lst=[i for i in range(1,26)]\n",
    "for i in lst:\n",
    "    if i%3==0:\n",
    "        print(i,\"divisible by 3\")\n",
    "    else:\n",
    "        print(i,\"is not divisible by 3\")"
   ]
  },
  {
   "cell_type": "markdown",
   "id": "88857a90",
   "metadata": {},
   "source": [
    "# Q7. What do you understand about mutable and immutable data types? Give examples for both showing this property."
   ]
  },
  {
   "cell_type": "markdown",
   "id": "ed1c297b",
   "metadata": {},
   "source": [
    "Mutable:- \n",
    "\n",
    "Mutable objects in programming refer to objects whose values can be modified or changed after they are created. This means that when you make changes to a mutable object, such as adding or removing elements, the object itself is modified in memory.\n",
    "\n",
    "Some common examples of mutable objects in programming languages like Python include lists, dictionaries, and sets. For example, you can add or remove elements from a list, update values in a dictionary, or modify the content of a set."
   ]
  },
  {
   "cell_type": "code",
   "execution_count": 32,
   "id": "3dec4cf8",
   "metadata": {},
   "outputs": [
    {
     "name": "stdout",
     "output_type": "stream",
     "text": [
      "[5, 2, 5, 1, 5, 8, 23, 100]\n"
     ]
    }
   ],
   "source": [
    "lst=[5,2,5,1,5,8,23,\"ML\"]\n",
    "lst[-1]=100\n",
    "print(lst)"
   ]
  },
  {
   "cell_type": "markdown",
   "id": "1dc886f3",
   "metadata": {},
   "source": [
    "Immtable:-\n",
    "\n",
    "Immutable objects in programming refer to objects whose values cannot be modified or changed after they are created.This means that when you make changes to a Immutable object, such as adding or removing elements, the objectn shows an error.\n",
    "\n",
    "Some common examples of Immutable objects in programming languages like Python include tuple,in,float etc."
   ]
  },
  {
   "cell_type": "code",
   "execution_count": null,
   "id": "6f5173dd",
   "metadata": {},
   "outputs": [],
   "source": []
  }
 ],
 "metadata": {
  "kernelspec": {
   "display_name": "Python 3 (ipykernel)",
   "language": "python",
   "name": "python3"
  },
  "language_info": {
   "codemirror_mode": {
    "name": "ipython",
    "version": 3
   },
   "file_extension": ".py",
   "mimetype": "text/x-python",
   "name": "python",
   "nbconvert_exporter": "python",
   "pygments_lexer": "ipython3",
   "version": "3.10.9"
  }
 },
 "nbformat": 4,
 "nbformat_minor": 5
}
